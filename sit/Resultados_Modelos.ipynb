{
 "cells": [
  {
   "cell_type": "markdown",
   "metadata": {},
   "source": [
    "# Estadísticas Clasificación de Camiones"
   ]
  },
  {
   "cell_type": "markdown",
   "metadata": {},
   "source": [
    "Importamos las librerias necesarias y cambiamos al directorio de trabajo"
   ]
  },
  {
   "cell_type": "code",
   "execution_count": 90,
   "metadata": {},
   "outputs": [],
   "source": [
    "import os\n",
    "import pandas as pd\n",
    "import numpy as np\n",
    "from IPython.display import display, HTML\n",
    "import ast\n",
    "\n",
    "# Directorio de trabajo\n",
    "SLIM_DIR='/root/src/models/research/slim'\n",
    "os.chdir(SLIM_DIR)"
   ]
  },
  {
   "cell_type": "markdown",
   "metadata": {},
   "source": [
    "Definimos funciones auxiliares"
   ]
  },
  {
   "cell_type": "code",
   "execution_count": 91,
   "metadata": {},
   "outputs": [],
   "source": [
    "def classification_model_stats(TRAIN_DIR, DATASET_DIR):\n",
    "\n",
    "    result = !python eval_image_classifier.py \\\n",
    "      --checkpoint_path={TRAIN_DIR}/all \\\n",
    "      --eval_dir={TRAIN_DIR}/all \\\n",
    "      --dataset_name=trucks \\\n",
    "      --dataset_split_name=validation \\\n",
    "      --dataset_dir={DATASET_DIR} \\\n",
    "      --model_name=inception_v3\n",
    "\n",
    "    result2 = !python eval_image_classifier_cm.py  \\\n",
    "      --checkpoint_path={TRAIN_DIR}/all \\\n",
    "      --eval_dir={TRAIN_DIR}/all \\\n",
    "      --dataset_name=trucks \\\n",
    "      --dataset_split_name=validation \\\n",
    "      --dataset_dir={DATASET_DIR} \\\n",
    "      --model_name=inception_v3\n",
    "    \n",
    "    aux = [ s for s in result if 'Accuracy' in s][0]\n",
    "    accuracy = float(aux[aux.find('Accuracy')+len('Accuracy')+1:-1])\n",
    "    aux = [ s for s in result if 'FalsePositives' in s][0]\n",
    "    fp = float(aux[aux.find('FalsePositives')+len('FalsePositives')+1:-1])\n",
    "    aux = [ s for s in result if 'FalseNegatives' in s][0]\n",
    "    fn = float(aux[aux.find('FalseNegatives')+len('FalseNegatives')+1:-1])\n",
    "    aux = [ s for s in result if 'TruePositives' in s][0]\n",
    "    tp = float(aux[aux.find('TruePositives')+len('TruePositives')+1:-1])\n",
    "    aux = [ s for s in result if 'TrueNegatives' in s][0]\n",
    "    tn = float(aux[aux.find('TrueNegatives')+len('TrueNegatives')+1:-1])\n",
    "\n",
    "    labels = ! cat {DATASET_DIR}/tfrecords/labels.txt\n",
    "    labels = [s[2:] for s in labels]\n",
    "\n",
    "    cm = ','.join(result2[-1*len(labels):]).replace(', ',',').replace(' ',',').replace(',,',',').replace(',,',',').replace('[,','[')\n",
    "    cm = ast.literal_eval(cm)\n",
    "\n",
    "    df = pd.DataFrame({'Actual': labels})\n",
    "    df = pd.concat([df, pd.DataFrame(cm, columns=labels)], axis=1)\n",
    "\n",
    "    print(\"\")\n",
    "    print('Estadísticas Modelo___________________')\n",
    "    print(\"Accuracy        : {0:.3f}\".format(accuracy))\n",
    "    print(\"True Positives  : {}\".format(int(tp)))\n",
    "    print(\"True Negatives  : {}\".format(int(tn)))\n",
    "    print(\"False Positives : {}\".format(int(fp)))\n",
    "    print(\"False Negatives : {}\".format(int(fn)))\n",
    "    print(\"\")\n",
    "    print(\"\")\n",
    "\n",
    "    print('Matriz de confusion___________________')\n",
    "    display(df.set_index(\"Actual\"))\n"
   ]
  },
  {
   "cell_type": "markdown",
   "metadata": {},
   "source": [
    "## Trucks\n",
    "\n",
    "Base de datos con 5 clases de camiones: concrete-mixer, crane-truck, dump-truck, other-truck, water-tank-truck"
   ]
  },
  {
   "cell_type": "code",
   "execution_count": 93,
   "metadata": {},
   "outputs": [
    {
     "name": "stdout",
     "output_type": "stream",
     "text": [
      "\n",
      "Estadísticas Modelo___________________\n",
      "Accuracy        : 0.928\n",
      "True Positives  : 465\n",
      "True Negatives  : 125\n",
      "False Positives : 5\n",
      "False Negatives : 5\n",
      "\n",
      "\n",
      "Matriz de confusion___________________\n"
     ]
    },
    {
     "data": {
      "text/html": [
       "<div>\n",
       "<style scoped>\n",
       "    .dataframe tbody tr th:only-of-type {\n",
       "        vertical-align: middle;\n",
       "    }\n",
       "\n",
       "    .dataframe tbody tr th {\n",
       "        vertical-align: top;\n",
       "    }\n",
       "\n",
       "    .dataframe thead th {\n",
       "        text-align: right;\n",
       "    }\n",
       "</style>\n",
       "<table border=\"1\" class=\"dataframe\">\n",
       "  <thead>\n",
       "    <tr style=\"text-align: right;\">\n",
       "      <th></th>\n",
       "      <th>concrete-mixer</th>\n",
       "      <th>crane-truck</th>\n",
       "      <th>dump-truck</th>\n",
       "      <th>other-truck</th>\n",
       "      <th>water-tank-truck</th>\n",
       "    </tr>\n",
       "    <tr>\n",
       "      <th>Actual</th>\n",
       "      <th></th>\n",
       "      <th></th>\n",
       "      <th></th>\n",
       "      <th></th>\n",
       "      <th></th>\n",
       "    </tr>\n",
       "  </thead>\n",
       "  <tbody>\n",
       "    <tr>\n",
       "      <th>concrete-mixer</th>\n",
       "      <td>125</td>\n",
       "      <td>0</td>\n",
       "      <td>1</td>\n",
       "      <td>0</td>\n",
       "      <td>4</td>\n",
       "    </tr>\n",
       "    <tr>\n",
       "      <th>crane-truck</th>\n",
       "      <td>0</td>\n",
       "      <td>165</td>\n",
       "      <td>12</td>\n",
       "      <td>0</td>\n",
       "      <td>1</td>\n",
       "    </tr>\n",
       "    <tr>\n",
       "      <th>dump-truck</th>\n",
       "      <td>1</td>\n",
       "      <td>3</td>\n",
       "      <td>184</td>\n",
       "      <td>0</td>\n",
       "      <td>5</td>\n",
       "    </tr>\n",
       "    <tr>\n",
       "      <th>other-truck</th>\n",
       "      <td>2</td>\n",
       "      <td>0</td>\n",
       "      <td>5</td>\n",
       "      <td>2</td>\n",
       "      <td>1</td>\n",
       "    </tr>\n",
       "    <tr>\n",
       "      <th>water-tank-truck</th>\n",
       "      <td>2</td>\n",
       "      <td>2</td>\n",
       "      <td>4</td>\n",
       "      <td>0</td>\n",
       "      <td>81</td>\n",
       "    </tr>\n",
       "  </tbody>\n",
       "</table>\n",
       "</div>"
      ],
      "text/plain": [
       "                  concrete-mixer  crane-truck  dump-truck  other-truck  \\\n",
       "Actual                                                                   \n",
       "concrete-mixer               125            0           1            0   \n",
       "crane-truck                    0          165          12            0   \n",
       "dump-truck                     1            3         184            0   \n",
       "other-truck                    2            0           5            2   \n",
       "water-tank-truck               2            2           4            0   \n",
       "\n",
       "                  water-tank-truck  \n",
       "Actual                              \n",
       "concrete-mixer                   4  \n",
       "crane-truck                      1  \n",
       "dump-truck                       5  \n",
       "other-truck                      1  \n",
       "water-tank-truck                81  "
      ]
     },
     "metadata": {},
     "output_type": "display_data"
    }
   ],
   "source": [
    "# Donde esta el modelo entrenado (checkpoint)\n",
    "TRAIN_DIR='/root/models/tf-slim/train/Trucks/inception_v3'\n",
    "# Donde esta la base de datos\n",
    "DATASET_DIR='/root/databases/Trucks'\n",
    "\n",
    "classification_model_stats(TRAIN_DIR, DATASET_DIR)"
   ]
  },
  {
   "cell_type": "markdown",
   "metadata": {},
   "source": [
    "## Trucks-concrete\n",
    "\n",
    "Base de datos con 2 clases de camiones: concrete-mixer, no-concrete-mixer"
   ]
  },
  {
   "cell_type": "code",
   "execution_count": 94,
   "metadata": {},
   "outputs": [
    {
     "name": "stdout",
     "output_type": "stream",
     "text": [
      "\n",
      "Estadísticas Modelo___________________\n",
      "Accuracy        : 0.999\n",
      "True Positives  : 1438\n",
      "True Negatives  : 361\n",
      "False Positives : 1\n",
      "False Negatives : 0\n",
      "\n",
      "\n",
      "Matriz de confusion___________________\n"
     ]
    },
    {
     "data": {
      "text/html": [
       "<div>\n",
       "<style scoped>\n",
       "    .dataframe tbody tr th:only-of-type {\n",
       "        vertical-align: middle;\n",
       "    }\n",
       "\n",
       "    .dataframe tbody tr th {\n",
       "        vertical-align: top;\n",
       "    }\n",
       "\n",
       "    .dataframe thead th {\n",
       "        text-align: right;\n",
       "    }\n",
       "</style>\n",
       "<table border=\"1\" class=\"dataframe\">\n",
       "  <thead>\n",
       "    <tr style=\"text-align: right;\">\n",
       "      <th></th>\n",
       "      <th>concrete-truck</th>\n",
       "      <th>no-concrete-truck</th>\n",
       "    </tr>\n",
       "    <tr>\n",
       "      <th>Actual</th>\n",
       "      <th></th>\n",
       "      <th></th>\n",
       "    </tr>\n",
       "  </thead>\n",
       "  <tbody>\n",
       "    <tr>\n",
       "      <th>concrete-truck</th>\n",
       "      <td>361</td>\n",
       "      <td>1</td>\n",
       "    </tr>\n",
       "    <tr>\n",
       "      <th>no-concrete-truck</th>\n",
       "      <td>0</td>\n",
       "      <td>1438</td>\n",
       "    </tr>\n",
       "  </tbody>\n",
       "</table>\n",
       "</div>"
      ],
      "text/plain": [
       "                   concrete-truck  no-concrete-truck\n",
       "Actual                                              \n",
       "concrete-truck                361                  1\n",
       "no-concrete-truck               0               1438"
      ]
     },
     "metadata": {},
     "output_type": "display_data"
    }
   ],
   "source": [
    "TRAIN_DIR='/root/models/tf-slim/train/Trucks-concrete/inception_v3'\n",
    "DATASET_DIR='/root/databases/Trucks-concrete'\n",
    "\n",
    "classification_model_stats(TRAIN_DIR, DATASET_DIR)"
   ]
  },
  {
   "cell_type": "markdown",
   "metadata": {},
   "source": [
    "## Trucks4\n",
    "\n",
    "Base de datos con 4 clases de camiones: concrete-mixer, crane-truck, dump-truck, water-tank-truck"
   ]
  },
  {
   "cell_type": "code",
   "execution_count": 95,
   "metadata": {},
   "outputs": [
    {
     "name": "stdout",
     "output_type": "stream",
     "text": [
      "\n",
      "Estadísticas Modelo___________________\n",
      "Accuracy        : 0.973\n",
      "True Positives  : 445\n",
      "True Negatives  : 147\n",
      "False Positives : 8\n",
      "False Negatives : 0\n",
      "\n",
      "\n",
      "Matriz de confusion___________________\n"
     ]
    },
    {
     "data": {
      "text/html": [
       "<div>\n",
       "<style scoped>\n",
       "    .dataframe tbody tr th:only-of-type {\n",
       "        vertical-align: middle;\n",
       "    }\n",
       "\n",
       "    .dataframe tbody tr th {\n",
       "        vertical-align: top;\n",
       "    }\n",
       "\n",
       "    .dataframe thead th {\n",
       "        text-align: right;\n",
       "    }\n",
       "</style>\n",
       "<table border=\"1\" class=\"dataframe\">\n",
       "  <thead>\n",
       "    <tr style=\"text-align: right;\">\n",
       "      <th></th>\n",
       "      <th>concrete-mixer</th>\n",
       "      <th>crane-truck</th>\n",
       "      <th>dump-truck</th>\n",
       "      <th>water-tank-truck</th>\n",
       "    </tr>\n",
       "    <tr>\n",
       "      <th>Actual</th>\n",
       "      <th></th>\n",
       "      <th></th>\n",
       "      <th></th>\n",
       "      <th></th>\n",
       "    </tr>\n",
       "  </thead>\n",
       "  <tbody>\n",
       "    <tr>\n",
       "      <th>concrete-mixer</th>\n",
       "      <td>146</td>\n",
       "      <td>0</td>\n",
       "      <td>1</td>\n",
       "      <td>7</td>\n",
       "    </tr>\n",
       "    <tr>\n",
       "      <th>crane-truck</th>\n",
       "      <td>0</td>\n",
       "      <td>147</td>\n",
       "      <td>4</td>\n",
       "      <td>0</td>\n",
       "    </tr>\n",
       "    <tr>\n",
       "      <th>dump-truck</th>\n",
       "      <td>0</td>\n",
       "      <td>2</td>\n",
       "      <td>206</td>\n",
       "      <td>2</td>\n",
       "    </tr>\n",
       "    <tr>\n",
       "      <th>water-tank-truck</th>\n",
       "      <td>0</td>\n",
       "      <td>0</td>\n",
       "      <td>0</td>\n",
       "      <td>85</td>\n",
       "    </tr>\n",
       "  </tbody>\n",
       "</table>\n",
       "</div>"
      ],
      "text/plain": [
       "                  concrete-mixer  crane-truck  dump-truck  water-tank-truck\n",
       "Actual                                                                     \n",
       "concrete-mixer               146            0           1                 7\n",
       "crane-truck                    0          147           4                 0\n",
       "dump-truck                     0            2         206                 2\n",
       "water-tank-truck               0            0           0                85"
      ]
     },
     "metadata": {},
     "output_type": "display_data"
    }
   ],
   "source": [
    "# Donde esta el modelo entrenado (checkpoint)\n",
    "TRAIN_DIR='/root/models/tf-slim/train/Trucks4/inception_v3'\n",
    "# Donde esta la base de datos\n",
    "DATASET_DIR='/root/databases/Trucks4'\n",
    "\n",
    "classification_model_stats(TRAIN_DIR, DATASET_DIR)"
   ]
  },
  {
   "cell_type": "code",
   "execution_count": 73,
   "metadata": {},
   "outputs": [
    {
     "data": {
      "text/plain": [
       "Predicted  0  1  2  __all__\n",
       "Actual                     \n",
       "0          3  0  0        3\n",
       "1          0  1  2        3\n",
       "2          2  1  3        6\n",
       "__all__    5  2  5       12"
      ]
     },
     "execution_count": 73,
     "metadata": {},
     "output_type": "execute_result"
    }
   ],
   "source": [
    "from pandas_ml import ConfusionMatrix\n",
    "\n",
    "y_actu = [2, 0, 2, 2, 0, 1, 1, 2, 2, 0, 1, 2]\n",
    "y_pred = [0, 0, 2, 1, 0, 2, 1, 0, 2, 0, 2, 2]\n",
    "cm = ConfusionMatrix(y_actu, y_pred)\n",
    "cm"
   ]
  }
 ],
 "metadata": {
  "kernelspec": {
   "display_name": "Python 3",
   "language": "python",
   "name": "python3"
  },
  "language_info": {
   "codemirror_mode": {
    "name": "ipython",
    "version": 2
   },
   "file_extension": ".py",
   "mimetype": "text/x-python",
   "name": "python",
   "nbconvert_exporter": "python",
   "pygments_lexer": "ipython2",
   "version": "2.7.12"
  }
 },
 "nbformat": 4,
 "nbformat_minor": 2
}
